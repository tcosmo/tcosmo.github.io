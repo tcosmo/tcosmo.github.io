{
 "cells": [
  {
   "cell_type": "code",
   "execution_count": 1,
   "metadata": {
    "collapsed": false
   },
   "outputs": [],
   "source": [
    "# jdc for step by step class construction\n",
    "import jdc.jdc as jdc\n",
    "\n",
    "import numpy as np\n",
    "import itertools \n",
    "\n",
    "class SOM(object):\n",
    "    def __init__(self,h,w,dim_feat):\n",
    "        \"\"\"\n",
    "            Construction of a zero-filled SOM.\n",
    "            h,w,dim_feat: constructs a (h,w,dim_feat) SOM.\n",
    "        \"\"\"\n",
    "        self.shape = (h,w,dim_feat)\n",
    "        self.som = np.zeros((h,w,dim_feat))"
   ]
  },
  {
   "cell_type": "code",
   "execution_count": 6,
   "metadata": {
    "collapsed": false
   },
   "outputs": [],
   "source": [
    "%%add_to SOM\n",
    "def train(self,data):\n",
    "    \"\"\" \n",
    "        Training procedure for a SOM.\n",
    "        data: a N*d matrix, N the number of examples, \n",
    "              d the same as dim_feat=self.shape[2].\n",
    "    \"\"\"\n",
    "    for t in itertools.count():\n",
    "        i_data =  np.random.choice(range(len(data)))\n",
    "        bmu = self.find_bmu(data[i_data])\n",
    "        \n",
    "def find_bmu(self, input_vec):\n",
    "    \"\"\"\n",
    "        Find the BMU of a given input vector.\n",
    "        input_vec: a d=dim_feat=self.shape[2] input vector.\n",
    "    \"\"\"\n",
    "    list_bmu = []\n",
    "    for y in range(self.shape[0]):\n",
    "        for x in range(self.shape[1]):\n",
    "            dist = np.linalg.norm((input_vec-self.som[y,x]))\n",
    "            list_bmu.append(((y,x),dist))\n",
    "    list_bmu.sort(key=lambda x: x[1])\n",
    "    return list_bmu[0][0]"
   ]
  },
  {
   "cell_type": "code",
   "execution_count": 22,
   "metadata": {
    "collapsed": false
   },
   "outputs": [],
   "source": [
    "%%add_to SOM\n",
    "def __init__(self,h,w,dim_feat):\n",
    "    \"\"\"\n",
    "        Construction of a zero-filled SOM.\n",
    "        h,w,dim_feat: constructs a (h,w,dim_feat) SOM.\n",
    "    \"\"\"\n",
    "    self.shape = (h,w,dim_feat)\n",
    "    self.som = np.zeros((h,w,dim_feat))\n",
    "    \n",
    "    # Training parameters\n",
    "    self.L0 = 0.0\n",
    "    self.lam = 0.0\n",
    "    \n",
    "def train(self,data,L0,lam):\n",
    "    \"\"\" \n",
    "        Training procedure for a SOM.\n",
    "        data: a N*d matrix, N the number of examples, \n",
    "              d the same as dim_feat=self.shape[2].\n",
    "        L0,lam: training parameters.\n",
    "    \"\"\"\n",
    "    self.L0 = L0\n",
    "    self.lam = lam\n",
    "    \n",
    "    for t in itertools.count():\n",
    "        i_data =  np.random.choice(range(len(data)))\n",
    "        \n",
    "        bmu = self.find_bmu(data[i_data])\n",
    "        self.update_bmu(bmu,data[i_data],t)\n",
    "            \n",
    "        \n",
    "def update_bmu(self,bmu,input_vector,t):\n",
    "    \"\"\"\n",
    "        Update rule for the BMU.\n",
    "        bmu: (y,x) BMU's coordinates.\n",
    "        input_vector: current data vector.\n",
    "        t: current time.\n",
    "    \"\"\"\n",
    "    self.som[bmu] += self.L(t)*(input_vector-self.som[bmu])\n",
    "\n",
    "def L(self, t):\n",
    "    \"\"\"\n",
    "        Learning rate formula.\n",
    "        t: current time.\n",
    "    \"\"\"\n",
    "    return self.L0*np.exp(-t/self.lam) \n",
    "    "
   ]
  },
  {
   "cell_type": "code",
   "execution_count": null,
   "metadata": {
    "collapsed": true
   },
   "outputs": [],
   "source": [
    "%%add_to SOM\n",
    "def __init__(self,h,w,dim_feat):\n",
    "    \"\"\"\n",
    "        Construction of a zero-filled SOM.\n",
    "        h,w,dim_feat: constructs a (h,w,dim_feat) SOM.\n",
    "    \"\"\"\n",
    "    self.shape = (h,w,dim_feat)\n",
    "    self.som = np.zeros((h,w,dim_feat))\n",
    "    \n",
    "    # Training parameters\n",
    "    self.L0 = 0.0\n",
    "    self.lam = 0.0\n",
    "    self.sigma0 = 0.0\n",
    "    \n",
    "def train(self,data,L0,lam,sigma0):\n",
    "    \"\"\" \n",
    "        Training procedure for a SOM.\n",
    "        data: a N*d matrix, N the number of examples, \n",
    "              d the same as dim_feat=self.shape[2].\n",
    "        L0,lam,sigma0: training parameters.\n",
    "    \"\"\"\n",
    "    self.L0 = L0\n",
    "    self.lam = lam\n",
    "    self.sigma0 = sigma0\n",
    "    \n",
    "    for t in itertools.count():\n",
    "        i_data =  np.random.choice(range(len(data)))\n",
    "        \n",
    "        bmu = self.find_bmu(data[i_data])\n",
    "        print(\"t=\",t)\n",
    "        print(self.som)\n",
    "        self.update_som(bmu,data[i_data],t)\n",
    "        print(self.som)\n",
    "        \n",
    "        if t >= 10:\n",
    "            break\n",
    "            \n",
    "def update_som(self,bmu,input_vector,t):\n",
    "    \"\"\" \n",
    "        Calls the update rule on each cell.\n",
    "        bmu: (y,x) BMU's coordinates.\n",
    "        input_vector: current data vector.\n",
    "        t: current time.\n",
    "    \"\"\"\n",
    "    for y in self.shape[0]:\n",
    "        for x in self.shape[1]:\n",
    "            dist_to_bmu = np.linalg.norm((np.array(bmu)-np.array((y,x))))\n",
    "            self.update_cell((y,x),dist_to_bmu,input_vector,t)\n",
    "\n",
    "def update_cell(self,cell,dist_to_bmu,input_vector,t):\n",
    "    \"\"\" \n",
    "        Computes the update rule on a cell.\n",
    "        cell: (y,x) cell's coordinates.\n",
    "        dist_to_bmu: L2 distance from cell to bmu.\n",
    "        input_vector: current data vector.\n",
    "        t: current time.\n",
    "    \"\"\"\n",
    "    self.som[cell] += N(dist_to_bmu,t)*L(t)*(input_vector-self.som[cell])\n",
    "\n",
    "def N(self,dist_to_bmu,t):\n",
    "    \"\"\" \n",
    "        Computes the neighbouring penalty.\n",
    "        dist_to_bmu: L2 distance to bmu.\n",
    "        t: current time.\n",
    "    \"\"\"\n",
    "    curr_sigma = self.sigma(t)\n",
    "    return np.exp(-(dist_to_bmu**2)/(2*curr_sigma**2))\n",
    "\n",
    "def sigma(self, t):\n",
    "    \"\"\"\n",
    "        Neighbouring radius formula.\n",
    "        t: current time.\n",
    "    \"\"\"\n",
    "    return self.sigma0*np.exp(-t/self.lam) \n",
    "    "
   ]
  },
  {
   "cell_type": "code",
   "execution_count": 23,
   "metadata": {
    "collapsed": false
   },
   "outputs": [],
   "source": [
    "a = SOM(3,3,3)"
   ]
  },
  {
   "cell_type": "code",
   "execution_count": 24,
   "metadata": {
    "collapsed": false
   },
   "outputs": [
    {
     "name": "stdout",
     "output_type": "stream",
     "text": [
      "t= 0\n",
      "(0, 0) [ 0.  0.  0.]\n",
      "(0, 0) [ 0.090757    0.38621685  0.66835984]\n",
      "\n",
      "t= 1\n",
      "(0, 1) [ 0.  0.  0.]\n",
      "(0, 1) [ 0.82023618  0.1585437   0.06540873]\n",
      "\n",
      "t= 2\n",
      "(0, 0) [ 0.090757    0.38621685  0.66835984]\n",
      "(0, 0) [ 0.37919239  0.06341502  0.59752952]\n",
      "\n",
      "t= 3\n",
      "(0, 0) [ 0.37919239  0.06341502  0.59752952]\n",
      "(0, 0) [ 0.37919297  0.06341437  0.59752937]\n",
      "\n",
      "t= 4\n",
      "(0, 1) [ 0.82023618  0.1585437   0.06540873]\n",
      "(0, 1) [ 0.820237    0.15854386  0.06540879]\n",
      "\n",
      "t= 5\n",
      "(0, 0) [ 0.37919297  0.06341437  0.59752937]\n",
      "(0, 0) [ 0.46639955  0.86698188  0.95016484]\n",
      "\n",
      "t= 6\n",
      "(0, 0) [ 0.46639955  0.86698188  0.95016484]\n",
      "(0, 0) [ 0.09075925  0.38621973  0.66836153]\n",
      "\n",
      "t= 7\n",
      "(0, 0) [ 0.09075925  0.38621973  0.66836153]\n",
      "(0, 0) [ 0.00983901  0.82550919  0.58489789]\n",
      "\n",
      "t= 8\n",
      "(0, 0) [ 0.00983901  0.82550919  0.58489789]\n",
      "(0, 0) [ 0.09075635  0.38622036  0.66835917]\n",
      "\n",
      "t= 9\n",
      "(0, 0) [ 0.09075635  0.38622036  0.66835917]\n",
      "(0, 0) [ 0.46639661  0.86698158  0.95016406]\n",
      "\n",
      "t= 10\n",
      "(0, 0) [ 0.46639661  0.86698158  0.95016406]\n",
      "(0, 0) [ 0.00984301  0.82551268  0.58490096]\n",
      "\n"
     ]
    }
   ],
   "source": [
    "a.train(np.random.rand(10,3),1,1e6)"
   ]
  },
  {
   "cell_type": "code",
   "execution_count": 20,
   "metadata": {
    "collapsed": false
   },
   "outputs": [
    {
     "data": {
      "text/plain": [
       "array([[ 0.96974249,  0.77287538,  0.33443463],\n",
       "       [ 0.90319094,  0.91744681,  0.36920306],\n",
       "       [ 0.14391138,  0.70014981,  0.15893375],\n",
       "       [ 0.96494716,  0.45921981,  0.41901992],\n",
       "       [ 0.31325192,  0.48720453,  0.90644087],\n",
       "       [ 0.4590266 ,  0.55962294,  0.64627184],\n",
       "       [ 0.9963409 ,  0.90287702,  0.14913533],\n",
       "       [ 0.53765813,  0.07168466,  0.51132487],\n",
       "       [ 0.79934354,  0.26538275,  0.72801487],\n",
       "       [ 0.87295743,  0.83711555,  0.84927992]])"
      ]
     },
     "execution_count": 20,
     "metadata": {},
     "output_type": "execute_result"
    }
   ],
   "source": [
    "np.random.rand(10,3)"
   ]
  },
  {
   "cell_type": "code",
   "execution_count": 16,
   "metadata": {
    "collapsed": false
   },
   "outputs": [
    {
     "data": {
      "text/plain": [
       "0.0"
      ]
     },
     "execution_count": 16,
     "metadata": {},
     "output_type": "execute_result"
    }
   ],
   "source": [
    "b[(0,3)]"
   ]
  },
  {
   "cell_type": "code",
   "execution_count": null,
   "metadata": {
    "collapsed": true
   },
   "outputs": [],
   "source": []
  }
 ],
 "metadata": {
  "kernelspec": {
   "display_name": "Python 3",
   "language": "python",
   "name": "python3"
  },
  "language_info": {
   "codemirror_mode": {
    "name": "ipython",
    "version": 3
   },
   "file_extension": ".py",
   "mimetype": "text/x-python",
   "name": "python",
   "nbconvert_exporter": "python",
   "pygments_lexer": "ipython3",
   "version": "3.6.1"
  }
 },
 "nbformat": 4,
 "nbformat_minor": 2
}
