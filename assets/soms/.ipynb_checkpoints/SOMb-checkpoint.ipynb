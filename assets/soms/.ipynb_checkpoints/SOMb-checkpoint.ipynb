{
 "cells": [
  {
   "cell_type": "code",
   "execution_count": 1,
   "metadata": {
    "collapsed": false
   },
   "outputs": [],
   "source": [
    "# jdc for step by step class construction\n",
    "import jdc.jdc as jdc\n",
    "\n",
    "import numpy as np\n",
    "import itertools \n",
    "\n",
    "class SOM(object):\n",
    "    def __init__(self,h,w,dim_feat):\n",
    "        self.shape = (h,w,dim_feat)\n",
    "        self.som = np.zeros((h,w,dim_feat))"
   ]
  },
  {
   "cell_type": "code",
   "execution_count": 2,
   "metadata": {
    "collapsed": false
   },
   "outputs": [],
   "source": [
    "%%add_to SOM\n",
    "def train(self,data):\n",
    "    \"\"\" \n",
    "        Training procedure for a SOM.\n",
    "        data: a N*d matrix, N the number of examples, \n",
    "              d the same as dim_feat=self.shape[2]\n",
    "    \"\"\"\n",
    "    return 2\n",
    "\n",
    "def find_bmu(self, input_vec):\n",
    "    \"\"\"\n",
    "        Find the BMU of a given input vector.\n",
    "        input_vec: a d=dim_feat=self.shape[2] input vector\n",
    "    \"\"\"\n",
    "    list_bmu = []\n",
    "    for y in range(self.shape[0]):\n",
    "        for x in range(self.shape[1]):\n",
    "            dist = np.linalg.norm((input_vec-self.som[y,x]))\n",
    "            list_bmu.append(((y,x),dist))\n",
    "    list_bmu.sort(key=lambda x: x[1])\n",
    "    return list_bmu[0][0]"
   ]
  },
  {
   "cell_type": "code",
   "execution_count": 3,
   "metadata": {
    "collapsed": false
   },
   "outputs": [],
   "source": [
    "a = SOM(2,2,3)"
   ]
  },
  {
   "cell_type": "code",
   "execution_count": 4,
   "metadata": {
    "collapsed": false
   },
   "outputs": [
    {
     "ename": "ValueError",
     "evalue": "operands could not be broadcast together with shapes (0,) (3,) ",
     "output_type": "error",
     "traceback": [
      "\u001b[0;31m---------------------------------------------------------------------------\u001b[0m",
      "\u001b[0;31mValueError\u001b[0m                                Traceback (most recent call last)",
      "\u001b[0;32m<ipython-input-4-db5d7698a795>\u001b[0m in \u001b[0;36m<module>\u001b[0;34m()\u001b[0m\n\u001b[0;32m----> 1\u001b[0;31m \u001b[0ma\u001b[0m\u001b[0;34m.\u001b[0m\u001b[0mfind_bmu\u001b[0m\u001b[0;34m(\u001b[0m\u001b[0;34m[\u001b[0m\u001b[0;34m]\u001b[0m\u001b[0;34m)\u001b[0m\u001b[0;34m\u001b[0m\u001b[0m\n\u001b[0m",
      "\u001b[0;32m<string>\u001b[0m in \u001b[0;36mfind_bmu\u001b[0;34m(self, input_vec)\u001b[0m\n",
      "\u001b[0;31mValueError\u001b[0m: operands could not be broadcast together with shapes (0,) (3,) "
     ]
    }
   ],
   "source": [
    "a.find_bmu([])"
   ]
  },
  {
   "cell_type": "code",
   "execution_count": 5,
   "metadata": {
    "collapsed": false
   },
   "outputs": [
    {
     "name": "stdout",
     "output_type": "stream",
     "text": [
      " \n",
      "        Training procedure for a SOM\n",
      "        data: a N*d matrix, N the number of examples, \n",
      "              d the same as dim_feat=self.shape[2]\n",
      "    \n"
     ]
    }
   ],
   "source": [
    "print(SOM.train.__doc__)"
   ]
  },
  {
   "cell_type": "code",
   "execution_count": 23,
   "metadata": {
    "collapsed": true
   },
   "outputs": [],
   "source": [
    "%%add_to SOM\n",
    "def find_bmu(self, input_vec):\n",
    "    # Find the BMU of a given input vector\n",
    "    list_bmu = []\n",
    "    for y in range(self.shape[0]):\n",
    "        for x in range(self.shape[1]):\n",
    "            dist = np.linalg.norm((input_vec-self.som[y,x]))\n",
    "            list_bmu.append(((y,x),dist))\n",
    "    list_bmu.sort(key=lambda x: x[1])\n",
    "    return list_bmu[0][0]"
   ]
  },
  {
   "cell_type": "code",
   "execution_count": 25,
   "metadata": {
    "collapsed": true
   },
   "outputs": [],
   "source": [
    "%%add_to SOM\n",
    "def train(self,data):\n",
    "    print(\"a\")\n",
    "    # Training procedure for a SOM\n",
    "    # data: a N*d matrix, N the number of example, \n",
    "    #       d the same as dim_feat=self.shape[2]\n",
    "    \n",
    "    #for t in itertools.count():\n",
    "        #i_data =  np.random.choice(range(len(data)))\n",
    "        #bmu = self.find_bmu(data[i_data])"
   ]
  },
  {
   "cell_type": "code",
   "execution_count": 24,
   "metadata": {
    "collapsed": false
   },
   "outputs": [
    {
     "ename": "ValueError",
     "evalue": "operands could not be broadcast together with shapes (0,) (3,) ",
     "output_type": "error",
     "traceback": [
      "\u001b[0;31m---------------------------------------------------------------------------\u001b[0m",
      "\u001b[0;31mValueError\u001b[0m                                Traceback (most recent call last)",
      "\u001b[0;32m<ipython-input-24-db5d7698a795>\u001b[0m in \u001b[0;36m<module>\u001b[0;34m()\u001b[0m\n\u001b[0;32m----> 1\u001b[0;31m \u001b[0ma\u001b[0m\u001b[0;34m.\u001b[0m\u001b[0mfind_bmu\u001b[0m\u001b[0;34m(\u001b[0m\u001b[0;34m[\u001b[0m\u001b[0;34m]\u001b[0m\u001b[0;34m)\u001b[0m\u001b[0;34m\u001b[0m\u001b[0m\n\u001b[0m",
      "\u001b[0;32m<string>\u001b[0m in \u001b[0;36mfind_bmu\u001b[0;34m(self, input_vec)\u001b[0m\n",
      "\u001b[0;31mValueError\u001b[0m: operands could not be broadcast together with shapes (0,) (3,) "
     ]
    }
   ],
   "source": [
    "a.find_bmu([])"
   ]
  },
  {
   "cell_type": "code",
   "execution_count": null,
   "metadata": {
    "collapsed": true
   },
   "outputs": [],
   "source": []
  }
 ],
 "metadata": {
  "kernelspec": {
   "display_name": "Python 3",
   "language": "python",
   "name": "python3"
  },
  "language_info": {
   "codemirror_mode": {
    "name": "ipython",
    "version": 3
   },
   "file_extension": ".py",
   "mimetype": "text/x-python",
   "name": "python",
   "nbconvert_exporter": "python",
   "pygments_lexer": "ipython3",
   "version": "3.6.1"
  }
 },
 "nbformat": 4,
 "nbformat_minor": 2
}
